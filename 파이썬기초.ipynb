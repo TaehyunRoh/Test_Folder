{
  "nbformat": 4,
  "nbformat_minor": 0,
  "metadata": {
    "colab": {
      "name": "파이썬기초.ipynb",
      "version": "0.3.2",
      "provenance": [],
      "collapsed_sections": [
        "NjTDlLu05S_l",
        "QYKzJXHr5Wi3",
        "P2tz6xBV5Zgs",
        "x4h2VBIY7RXJ",
        "T_OYWVc5AXpS",
        "paiPQGnQBRQ3",
        "5i-VypSSFpWw",
        "1A2gcJr2GNPz",
        "aaHI67HYHDWO",
        "8mrQm7HIIGKY",
        "9Ph51odAKL8R",
        "W8lKl-p3Kpoo",
        "-45Ehc_cRd_A"
      ],
      "include_colab_link": true
    },
    "kernelspec": {
      "name": "python3",
      "display_name": "Python 3"
    }
  },
  "cells": [
    {
      "cell_type": "markdown",
      "metadata": {
        "id": "view-in-github",
        "colab_type": "text"
      },
      "source": [
        "<a href=\"https://colab.research.google.com/github/TaehyunRoh/Test_Folder/blob/master/%ED%8C%8C%EC%9D%B4%EC%8D%AC%EA%B8%B0%EC%B4%88.ipynb\" target=\"_parent\"><img src=\"https://colab.research.google.com/assets/colab-badge.svg\" alt=\"Open In Colab\"/></a>"
      ]
    },
    {
      "metadata": {
        "id": "NRIPo1tPgsT8",
        "colab_type": "text"
      },
      "cell_type": "markdown",
      "source": [
        "# **파이썬 기초 코딩 연습하기**"
      ]
    },
    {
      "metadata": {
        "id": "NjTDlLu05S_l",
        "colab_type": "text"
      },
      "cell_type": "markdown",
      "source": [
        "##함수"
      ]
    },
    {
      "metadata": {
        "id": "QYKzJXHr5Wi3",
        "colab_type": "text"
      },
      "cell_type": "markdown",
      "source": [
        "###print()"
      ]
    },
    {
      "metadata": {
        "id": "agRssMwN49mB",
        "colab_type": "code",
        "colab": {
          "base_uri": "https://localhost:8080/",
          "height": 34
        },
        "outputId": "a77c55ae-3df1-4484-db92-a7cfa622a432"
      },
      "cell_type": "code",
      "source": [
        "print(\"Hello world!\")"
      ],
      "execution_count": 4,
      "outputs": [
        {
          "output_type": "stream",
          "text": [
            "Hello world!\n"
          ],
          "name": "stdout"
        }
      ]
    },
    {
      "metadata": {
        "id": "Nu1Ftllb5ASN",
        "colab_type": "code",
        "colab": {
          "base_uri": "https://localhost:8080/",
          "height": 34
        },
        "outputId": "cf65a497-c8f7-4922-8107-c7c43526a7c9"
      },
      "cell_type": "code",
      "source": [
        "print(1)"
      ],
      "execution_count": 5,
      "outputs": [
        {
          "output_type": "stream",
          "text": [
            "1\n"
          ],
          "name": "stdout"
        }
      ]
    },
    {
      "metadata": {
        "id": "d882SVHC5BW_",
        "colab_type": "code",
        "colab": {
          "base_uri": "https://localhost:8080/",
          "height": 34
        },
        "outputId": "e3574b87-59a9-4065-8034-328add7845b7"
      },
      "cell_type": "code",
      "source": [
        "print([1,2,3])"
      ],
      "execution_count": 6,
      "outputs": [
        {
          "output_type": "stream",
          "text": [
            "[1, 2, 3]\n"
          ],
          "name": "stdout"
        }
      ]
    },
    {
      "metadata": {
        "id": "P2tz6xBV5Zgs",
        "colab_type": "text"
      },
      "cell_type": "markdown",
      "source": [
        "###input()"
      ]
    },
    {
      "metadata": {
        "id": "QvsOiHFl5ZO-",
        "colab_type": "code",
        "colab": {
          "base_uri": "https://localhost:8080/",
          "height": 52
        },
        "outputId": "7ed52212-65e0-4dcb-d167-8e5f16c93d38"
      },
      "cell_type": "code",
      "source": [
        "input('이름을 입력하세요')"
      ],
      "execution_count": 8,
      "outputs": [
        {
          "output_type": "stream",
          "text": [
            "이름을 입력하세요노태현\n"
          ],
          "name": "stdout"
        },
        {
          "output_type": "execute_result",
          "data": {
            "text/plain": [
              "'노태현'"
            ]
          },
          "metadata": {
            "tags": []
          },
          "execution_count": 8
        }
      ]
    },
    {
      "metadata": {
        "id": "fsY0NycH5CrZ",
        "colab_type": "code",
        "colab": {
          "base_uri": "https://localhost:8080/",
          "height": 52
        },
        "outputId": "188c46dd-ad8d-4ae3-da6b-3b6e44e5c6ef"
      },
      "cell_type": "code",
      "source": [
        "input('당신의 나이를 입력하세요.')"
      ],
      "execution_count": 9,
      "outputs": [
        {
          "output_type": "stream",
          "text": [
            "당신의 나이를 입력하세요.29\n"
          ],
          "name": "stdout"
        },
        {
          "output_type": "execute_result",
          "data": {
            "text/plain": [
              "'29'"
            ]
          },
          "metadata": {
            "tags": []
          },
          "execution_count": 9
        }
      ]
    },
    {
      "metadata": {
        "id": "V9YDlg5X5PZF",
        "colab_type": "code",
        "colab": {
          "base_uri": "https://localhost:8080/",
          "height": 34
        },
        "outputId": "0f618d00-5228-4e88-d34e-911650ecbc12"
      },
      "cell_type": "code",
      "source": [
        "age = input('당신의 나이를 입력하세요?')"
      ],
      "execution_count": 10,
      "outputs": [
        {
          "output_type": "stream",
          "text": [
            "당신의 나이를 입력하세요?29\n"
          ],
          "name": "stdout"
        }
      ]
    },
    {
      "metadata": {
        "id": "n1J5guV050CJ",
        "colab_type": "code",
        "colab": {
          "base_uri": "https://localhost:8080/",
          "height": 34
        },
        "outputId": "d58c96d5-193c-439a-b5a9-af7b932fecd1"
      },
      "cell_type": "code",
      "source": [
        "age"
      ],
      "execution_count": 11,
      "outputs": [
        {
          "output_type": "execute_result",
          "data": {
            "text/plain": [
              "'29'"
            ]
          },
          "metadata": {
            "tags": []
          },
          "execution_count": 11
        }
      ]
    },
    {
      "metadata": {
        "id": "rt4IlJQK56kl",
        "colab_type": "text"
      },
      "cell_type": "markdown",
      "source": [
        "##Variabel 변수"
      ]
    },
    {
      "metadata": {
        "id": "9ot-LcvX53UP",
        "colab_type": "code",
        "colab": {
          "base_uri": "https://localhost:8080/",
          "height": 34
        },
        "outputId": "d369b2ad-2835-4908-b274-bf74418206e0"
      },
      "cell_type": "code",
      "source": [
        "1\n",
        "2\n",
        "3\n"
      ],
      "execution_count": 12,
      "outputs": [
        {
          "output_type": "execute_result",
          "data": {
            "text/plain": [
              "3"
            ]
          },
          "metadata": {
            "tags": []
          },
          "execution_count": 12
        }
      ]
    },
    {
      "metadata": {
        "id": "2uvZ9FAR5_Gf",
        "colab_type": "code",
        "colab": {}
      },
      "cell_type": "code",
      "source": [
        "my_int = 1"
      ],
      "execution_count": 0,
      "outputs": []
    },
    {
      "metadata": {
        "id": "iqhKjwr56BSa",
        "colab_type": "code",
        "colab": {
          "base_uri": "https://localhost:8080/",
          "height": 34
        },
        "outputId": "1177528d-cf86-4551-abc4-3d4c752c6146"
      },
      "cell_type": "code",
      "source": [
        "my_int"
      ],
      "execution_count": 14,
      "outputs": [
        {
          "output_type": "execute_result",
          "data": {
            "text/plain": [
              "1"
            ]
          },
          "metadata": {
            "tags": []
          },
          "execution_count": 14
        }
      ]
    },
    {
      "metadata": {
        "id": "JG33HN8D6Cc2",
        "colab_type": "code",
        "colab": {
          "base_uri": "https://localhost:8080/",
          "height": 34
        },
        "outputId": "8084a673-be78-4535-d149-41d70d47f261"
      },
      "cell_type": "code",
      "source": [
        "my_int +3"
      ],
      "execution_count": 15,
      "outputs": [
        {
          "output_type": "execute_result",
          "data": {
            "text/plain": [
              "4"
            ]
          },
          "metadata": {
            "tags": []
          },
          "execution_count": 15
        }
      ]
    },
    {
      "metadata": {
        "id": "srvmlRX76EdO",
        "colab_type": "code",
        "colab": {
          "base_uri": "https://localhost:8080/",
          "height": 34
        },
        "outputId": "8238f699-4e9c-420e-c400-ff957c35a8ca"
      },
      "cell_type": "code",
      "source": [
        "my_int * 100"
      ],
      "execution_count": 16,
      "outputs": [
        {
          "output_type": "execute_result",
          "data": {
            "text/plain": [
              "100"
            ]
          },
          "metadata": {
            "tags": []
          },
          "execution_count": 16
        }
      ]
    },
    {
      "metadata": {
        "id": "R0ZkkqnT7EjT",
        "colab_type": "text"
      },
      "cell_type": "markdown",
      "source": [
        "대소문자 한글 가능 "
      ]
    },
    {
      "metadata": {
        "id": "x4h2VBIY7RXJ",
        "colab_type": "text"
      },
      "cell_type": "markdown",
      "source": [
        "###데이터 타입"
      ]
    },
    {
      "metadata": {
        "id": "PUCVJVH66EY-",
        "colab_type": "code",
        "colab": {
          "base_uri": "https://localhost:8080/",
          "height": 34
        },
        "outputId": "89bfbaf4-7940-4862-c594-151d85e9b179"
      },
      "cell_type": "code",
      "source": [
        "#숫자형 \n",
        "1\n",
        "2\n",
        "3\n"
      ],
      "execution_count": 18,
      "outputs": [
        {
          "output_type": "execute_result",
          "data": {
            "text/plain": [
              "3"
            ]
          },
          "metadata": {
            "tags": []
          },
          "execution_count": 18
        }
      ]
    },
    {
      "metadata": {
        "id": "bMQvpCs_6EXp",
        "colab_type": "code",
        "colab": {}
      },
      "cell_type": "code",
      "source": [
        "my_float = 3.14"
      ],
      "execution_count": 0,
      "outputs": []
    },
    {
      "metadata": {
        "id": "3lSXigrW6EVX",
        "colab_type": "code",
        "colab": {
          "base_uri": "https://localhost:8080/",
          "height": 34
        },
        "outputId": "88ac778a-9e58-42bb-cf46-be00cf5cd3b7"
      },
      "cell_type": "code",
      "source": [
        "type(my_float)"
      ],
      "execution_count": 20,
      "outputs": [
        {
          "output_type": "execute_result",
          "data": {
            "text/plain": [
              "float"
            ]
          },
          "metadata": {
            "tags": []
          },
          "execution_count": 20
        }
      ]
    },
    {
      "metadata": {
        "id": "pokL_HpC6ETC",
        "colab_type": "code",
        "colab": {
          "base_uri": "https://localhost:8080/",
          "height": 34
        },
        "outputId": "7fba2c83-cc34-4ddb-9b0a-0fc924a748a7"
      },
      "cell_type": "code",
      "source": [
        "type(my_int)"
      ],
      "execution_count": 21,
      "outputs": [
        {
          "output_type": "execute_result",
          "data": {
            "text/plain": [
              "int"
            ]
          },
          "metadata": {
            "tags": []
          },
          "execution_count": 21
        }
      ]
    },
    {
      "metadata": {
        "id": "OHT01yfo6EOy",
        "colab_type": "code",
        "colab": {
          "base_uri": "https://localhost:8080/",
          "height": 34
        },
        "outputId": "1ea2671a-a89a-419f-9fd2-408a31abfa81"
      },
      "cell_type": "code",
      "source": [
        " #string\n",
        "  'hello'"
      ],
      "execution_count": 22,
      "outputs": [
        {
          "output_type": "execute_result",
          "data": {
            "text/plain": [
              "'hello'"
            ]
          },
          "metadata": {
            "tags": []
          },
          "execution_count": 22
        }
      ]
    },
    {
      "metadata": {
        "id": "Q5PZUAo86EH-",
        "colab_type": "code",
        "colab": {
          "base_uri": "https://localhost:8080/",
          "height": 34
        },
        "outputId": "a285b010-2725-48c7-8bc3-65631e56e158"
      },
      "cell_type": "code",
      "source": [
        "\"hello\""
      ],
      "execution_count": 23,
      "outputs": [
        {
          "output_type": "execute_result",
          "data": {
            "text/plain": [
              "'hello'"
            ]
          },
          "metadata": {
            "tags": []
          },
          "execution_count": 23
        }
      ]
    },
    {
      "metadata": {
        "id": "WAbxQDbd6EEa",
        "colab_type": "code",
        "colab": {
          "base_uri": "https://localhost:8080/",
          "height": 34
        },
        "outputId": "f7d5916b-4ba6-430c-f063-f44d3fb56143"
      },
      "cell_type": "code",
      "source": [
        "print('hellp world')"
      ],
      "execution_count": 25,
      "outputs": [
        {
          "output_type": "stream",
          "text": [
            "hellp world\n"
          ],
          "name": "stdout"
        }
      ]
    },
    {
      "metadata": {
        "id": "AgkNYykB-FFG",
        "colab_type": "code",
        "colab": {
          "base_uri": "https://localhost:8080/",
          "height": 34
        },
        "outputId": "e01cf11d-96b4-48a3-a367-fb79d06d4686"
      },
      "cell_type": "code",
      "source": [
        "#Boolean 참과 거짓\n",
        "True\n",
        "False"
      ],
      "execution_count": 26,
      "outputs": [
        {
          "output_type": "execute_result",
          "data": {
            "text/plain": [
              "False"
            ]
          },
          "metadata": {
            "tags": []
          },
          "execution_count": 26
        }
      ]
    },
    {
      "metadata": {
        "id": "d25WC5m_-QCN",
        "colab_type": "code",
        "colab": {
          "base_uri": "https://localhost:8080/",
          "height": 34
        },
        "outputId": "86cdd66c-84df-4504-928d-cab62d7de71a"
      },
      "cell_type": "code",
      "source": [
        "True"
      ],
      "execution_count": 27,
      "outputs": [
        {
          "output_type": "execute_result",
          "data": {
            "text/plain": [
              "True"
            ]
          },
          "metadata": {
            "tags": []
          },
          "execution_count": 27
        }
      ]
    },
    {
      "metadata": {
        "id": "BFFHMIfv-TyQ",
        "colab_type": "code",
        "colab": {
          "base_uri": "https://localhost:8080/",
          "height": 34
        },
        "outputId": "b6c80840-3c15-4f27-84d1-f31af1b207fe"
      },
      "cell_type": "code",
      "source": [
        "print(False)"
      ],
      "execution_count": 28,
      "outputs": [
        {
          "output_type": "stream",
          "text": [
            "False\n"
          ],
          "name": "stdout"
        }
      ]
    },
    {
      "metadata": {
        "id": "Hlpf3bZh-TtH",
        "colab_type": "code",
        "colab": {}
      },
      "cell_type": "code",
      "source": [
        "#list 다양한 자료형들을 모아서 하용"
      ],
      "execution_count": 0,
      "outputs": []
    },
    {
      "metadata": {
        "id": "m5G_ayj5-Tl9",
        "colab_type": "code",
        "colab": {}
      },
      "cell_type": "code",
      "source": [
        "my_list = [1,2,3]"
      ],
      "execution_count": 0,
      "outputs": []
    },
    {
      "metadata": {
        "id": "DJVCmgRZ-TfU",
        "colab_type": "code",
        "colab": {}
      },
      "cell_type": "code",
      "source": [
        "students = ['a','b']"
      ],
      "execution_count": 0,
      "outputs": []
    },
    {
      "metadata": {
        "id": "kO0JRJFq-TSj",
        "colab_type": "code",
        "colab": {}
      },
      "cell_type": "code",
      "source": [
        "import random"
      ],
      "execution_count": 0,
      "outputs": []
    },
    {
      "metadata": {
        "id": "sGvyqB6P-TE1",
        "colab_type": "code",
        "colab": {
          "base_uri": "https://localhost:8080/",
          "height": 34
        },
        "outputId": "f43e0d97-4fee-49ef-8734-f83f3c8b97ff"
      },
      "cell_type": "code",
      "source": [
        "print(random.choice(students))"
      ],
      "execution_count": 33,
      "outputs": [
        {
          "output_type": "stream",
          "text": [
            "a\n"
          ],
          "name": "stdout"
        }
      ]
    },
    {
      "metadata": {
        "id": "bm5_TP_k-S9R",
        "colab_type": "code",
        "colab": {
          "base_uri": "https://localhost:8080/",
          "height": 34
        },
        "outputId": "9f28e8f0-45fb-4e1d-ab2b-ff99c7148e88"
      },
      "cell_type": "code",
      "source": [
        "print(random.choice(my_list))"
      ],
      "execution_count": 34,
      "outputs": [
        {
          "output_type": "stream",
          "text": [
            "2\n"
          ],
          "name": "stdout"
        }
      ]
    },
    {
      "metadata": {
        "id": "hz1V_7mD-S4D",
        "colab_type": "code",
        "colab": {}
      },
      "cell_type": "code",
      "source": [
        "#list append 리스트에 추가하기\n",
        "students.append('김또깡')"
      ],
      "execution_count": 0,
      "outputs": []
    },
    {
      "metadata": {
        "id": "7aP3Ih4R-Slk",
        "colab_type": "code",
        "colab": {
          "base_uri": "https://localhost:8080/",
          "height": 34
        },
        "outputId": "5283635c-954d-4d81-9323-ee4322416fed"
      },
      "cell_type": "code",
      "source": [
        "students"
      ],
      "execution_count": 36,
      "outputs": [
        {
          "output_type": "execute_result",
          "data": {
            "text/plain": [
              "['a', 'b', '김또깡']"
            ]
          },
          "metadata": {
            "tags": []
          },
          "execution_count": 36
        }
      ]
    },
    {
      "metadata": {
        "id": "EOdLe3mr-_wP",
        "colab_type": "code",
        "colab": {}
      },
      "cell_type": "code",
      "source": [
        "students.append('?')"
      ],
      "execution_count": 0,
      "outputs": []
    },
    {
      "metadata": {
        "id": "_O9EgHGP_EAb",
        "colab_type": "code",
        "colab": {}
      },
      "cell_type": "code",
      "source": [
        "#Tuple\n",
        "#안에 잇는 값들을 바꿀수 없다."
      ],
      "execution_count": 0,
      "outputs": []
    },
    {
      "metadata": {
        "id": "SJY4bWt7_KyB",
        "colab_type": "code",
        "colab": {}
      },
      "cell_type": "code",
      "source": [
        "students[0]= 'c'"
      ],
      "execution_count": 0,
      "outputs": []
    },
    {
      "metadata": {
        "id": "SXCZ87yj_S7D",
        "colab_type": "code",
        "colab": {
          "base_uri": "https://localhost:8080/",
          "height": 34
        },
        "outputId": "6370750f-cc9c-422f-99a2-70c39b3a8c93"
      },
      "cell_type": "code",
      "source": [
        "students"
      ],
      "execution_count": 41,
      "outputs": [
        {
          "output_type": "execute_result",
          "data": {
            "text/plain": [
              "['c', 'b', '김또깡', '?']"
            ]
          },
          "metadata": {
            "tags": []
          },
          "execution_count": 41
        }
      ]
    },
    {
      "metadata": {
        "id": "ROY8L0jm_VgH",
        "colab_type": "code",
        "colab": {}
      },
      "cell_type": "code",
      "source": [
        "my_tuple = ('A','b','c','d','e')"
      ],
      "execution_count": 0,
      "outputs": []
    },
    {
      "metadata": {
        "id": "9mYrusze_dG8",
        "colab_type": "code",
        "colab": {
          "base_uri": "https://localhost:8080/",
          "height": 34
        },
        "outputId": "71a06f8d-19dd-4649-f0b2-73c941d978d6"
      },
      "cell_type": "code",
      "source": [
        "my_tuple"
      ],
      "execution_count": 45,
      "outputs": [
        {
          "output_type": "execute_result",
          "data": {
            "text/plain": [
              "('A', 'b', 'c', 'd', 'e')"
            ]
          },
          "metadata": {
            "tags": []
          },
          "execution_count": 45
        }
      ]
    },
    {
      "metadata": {
        "id": "2hBOTUwA_iPP",
        "colab_type": "code",
        "colab": {
          "base_uri": "https://localhost:8080/",
          "height": 168
        },
        "outputId": "72de78d1-eb0e-4112-87d1-4e97aeab9678"
      },
      "cell_type": "code",
      "source": [
        "my_tuple.append('?')"
      ],
      "execution_count": 47,
      "outputs": [
        {
          "output_type": "error",
          "ename": "AttributeError",
          "evalue": "ignored",
          "traceback": [
            "\u001b[0;31m---------------------------------------------------------------------------\u001b[0m",
            "\u001b[0;31mAttributeError\u001b[0m                            Traceback (most recent call last)",
            "\u001b[0;32m<ipython-input-47-2a43fad15650>\u001b[0m in \u001b[0;36m<module>\u001b[0;34m()\u001b[0m\n\u001b[0;32m----> 1\u001b[0;31m \u001b[0mmy_tuple\u001b[0m\u001b[0;34m.\u001b[0m\u001b[0mappend\u001b[0m\u001b[0;34m(\u001b[0m\u001b[0;34m'?'\u001b[0m\u001b[0;34m)\u001b[0m\u001b[0;34m\u001b[0m\u001b[0;34m\u001b[0m\u001b[0m\n\u001b[0m",
            "\u001b[0;31mAttributeError\u001b[0m: 'tuple' object has no attribute 'append'"
          ]
        }
      ]
    },
    {
      "metadata": {
        "id": "EYzUZ1yY_lVc",
        "colab_type": "code",
        "colab": {
          "base_uri": "https://localhost:8080/",
          "height": 168
        },
        "outputId": "bfa3b0f1-b7fb-4c1b-bd8a-ad2569ed94b6"
      },
      "cell_type": "code",
      "source": [
        "my_tuple[0] = 'k'"
      ],
      "execution_count": 48,
      "outputs": [
        {
          "output_type": "error",
          "ename": "TypeError",
          "evalue": "ignored",
          "traceback": [
            "\u001b[0;31m---------------------------------------------------------------------------\u001b[0m",
            "\u001b[0;31mTypeError\u001b[0m                                 Traceback (most recent call last)",
            "\u001b[0;32m<ipython-input-48-0f70c26ea780>\u001b[0m in \u001b[0;36m<module>\u001b[0;34m()\u001b[0m\n\u001b[0;32m----> 1\u001b[0;31m \u001b[0mmy_tuple\u001b[0m\u001b[0;34m[\u001b[0m\u001b[0;36m0\u001b[0m\u001b[0;34m]\u001b[0m \u001b[0;34m=\u001b[0m \u001b[0;34m'k'\u001b[0m\u001b[0;34m\u001b[0m\u001b[0;34m\u001b[0m\u001b[0m\n\u001b[0m",
            "\u001b[0;31mTypeError\u001b[0m: 'tuple' object does not support item assignment"
          ]
        }
      ]
    },
    {
      "metadata": {
        "id": "C6rFJu7o_rRk",
        "colab_type": "code",
        "colab": {}
      },
      "cell_type": "code",
      "source": [
        "#dictionary "
      ],
      "execution_count": 0,
      "outputs": []
    },
    {
      "metadata": {
        "id": "OJg8uzzQ_xkf",
        "colab_type": "code",
        "colab": {}
      },
      "cell_type": "code",
      "source": [
        "my_dic = {'길동':'남', '미주':'여','태현' :'남'}"
      ],
      "execution_count": 0,
      "outputs": []
    },
    {
      "metadata": {
        "id": "rC7CWWNo_-FD",
        "colab_type": "code",
        "colab": {
          "base_uri": "https://localhost:8080/",
          "height": 34
        },
        "outputId": "34173383-5e53-4331-c085-adc6bc926131"
      },
      "cell_type": "code",
      "source": [
        "my_tuple[0]"
      ],
      "execution_count": 52,
      "outputs": [
        {
          "output_type": "execute_result",
          "data": {
            "text/plain": [
              "'A'"
            ]
          },
          "metadata": {
            "tags": []
          },
          "execution_count": 52
        }
      ]
    },
    {
      "metadata": {
        "id": "TRaiu6bNAAd8",
        "colab_type": "code",
        "colab": {
          "base_uri": "https://localhost:8080/",
          "height": 168
        },
        "outputId": "51a46474-8b0a-4c20-82ea-283f1fc50f3e"
      },
      "cell_type": "code",
      "source": [
        "my_dic[1]"
      ],
      "execution_count": 53,
      "outputs": [
        {
          "output_type": "error",
          "ename": "KeyError",
          "evalue": "ignored",
          "traceback": [
            "\u001b[0;31m---------------------------------------------------------------------------\u001b[0m",
            "\u001b[0;31mKeyError\u001b[0m                                  Traceback (most recent call last)",
            "\u001b[0;32m<ipython-input-53-bf71b40c4950>\u001b[0m in \u001b[0;36m<module>\u001b[0;34m()\u001b[0m\n\u001b[0;32m----> 1\u001b[0;31m \u001b[0mmy_dic\u001b[0m\u001b[0;34m[\u001b[0m\u001b[0;36m1\u001b[0m\u001b[0;34m]\u001b[0m\u001b[0;34m\u001b[0m\u001b[0;34m\u001b[0m\u001b[0m\n\u001b[0m",
            "\u001b[0;31mKeyError\u001b[0m: 1"
          ]
        }
      ]
    },
    {
      "metadata": {
        "id": "CWNQ3CsiAFsD",
        "colab_type": "code",
        "colab": {
          "base_uri": "https://localhost:8080/",
          "height": 34
        },
        "outputId": "7b580c7a-5d38-4f7d-cbce-01bc44023bf0"
      },
      "cell_type": "code",
      "source": [
        "my_dic['태현']"
      ],
      "execution_count": 54,
      "outputs": [
        {
          "output_type": "execute_result",
          "data": {
            "text/plain": [
              "'남'"
            ]
          },
          "metadata": {
            "tags": []
          },
          "execution_count": 54
        }
      ]
    },
    {
      "metadata": {
        "id": "ssnscwORAIJV",
        "colab_type": "code",
        "colab": {}
      },
      "cell_type": "code",
      "source": [
        "my_dic['태현']='여'"
      ],
      "execution_count": 0,
      "outputs": []
    },
    {
      "metadata": {
        "id": "VvYG5YlCARbE",
        "colab_type": "code",
        "colab": {
          "base_uri": "https://localhost:8080/",
          "height": 34
        },
        "outputId": "32b40f54-1f9f-4d71-e32c-e73d74a64a8b"
      },
      "cell_type": "code",
      "source": [
        "my_dic"
      ],
      "execution_count": 56,
      "outputs": [
        {
          "output_type": "execute_result",
          "data": {
            "text/plain": [
              "{'길동': '남', '미주': '여', '태현': '여'}"
            ]
          },
          "metadata": {
            "tags": []
          },
          "execution_count": 56
        }
      ]
    },
    {
      "metadata": {
        "id": "T_OYWVc5AXpS",
        "colab_type": "text"
      },
      "cell_type": "markdown",
      "source": [
        "###자료형 변환하기"
      ]
    },
    {
      "metadata": {
        "id": "uqIDRfyhATQ8",
        "colab_type": "code",
        "colab": {}
      },
      "cell_type": "code",
      "source": [
        "my_int = 1"
      ],
      "execution_count": 0,
      "outputs": []
    },
    {
      "metadata": {
        "id": "JuNQHdsEAnzs",
        "colab_type": "code",
        "colab": {
          "base_uri": "https://localhost:8080/",
          "height": 34
        },
        "outputId": "5ec4e7b9-04bc-4360-92df-84173f1e6bc4"
      },
      "cell_type": "code",
      "source": [
        "type(my_int)"
      ],
      "execution_count": 58,
      "outputs": [
        {
          "output_type": "execute_result",
          "data": {
            "text/plain": [
              "int"
            ]
          },
          "metadata": {
            "tags": []
          },
          "execution_count": 58
        }
      ]
    },
    {
      "metadata": {
        "id": "TGeGx8hmApyl",
        "colab_type": "code",
        "colab": {
          "base_uri": "https://localhost:8080/",
          "height": 34
        },
        "outputId": "59a2c259-78df-4a4c-b78b-6900a9a411ab"
      },
      "cell_type": "code",
      "source": [
        "float(my_int)"
      ],
      "execution_count": 59,
      "outputs": [
        {
          "output_type": "execute_result",
          "data": {
            "text/plain": [
              "1.0"
            ]
          },
          "metadata": {
            "tags": []
          },
          "execution_count": 59
        }
      ]
    },
    {
      "metadata": {
        "id": "f-QJbSUuAsvE",
        "colab_type": "code",
        "colab": {
          "base_uri": "https://localhost:8080/",
          "height": 34
        },
        "outputId": "047bebba-78fc-47f6-bc5f-9357a26728c5"
      },
      "cell_type": "code",
      "source": [
        "type(my_int)"
      ],
      "execution_count": 60,
      "outputs": [
        {
          "output_type": "execute_result",
          "data": {
            "text/plain": [
              "int"
            ]
          },
          "metadata": {
            "tags": []
          },
          "execution_count": 60
        }
      ]
    },
    {
      "metadata": {
        "id": "a_rzY4OgAvNs",
        "colab_type": "code",
        "colab": {
          "base_uri": "https://localhost:8080/",
          "height": 34
        },
        "outputId": "a7e0d570-6e17-46cd-b736-49810b97336f"
      },
      "cell_type": "code",
      "source": [
        "str(my_int)"
      ],
      "execution_count": 62,
      "outputs": [
        {
          "output_type": "execute_result",
          "data": {
            "text/plain": [
              "'1'"
            ]
          },
          "metadata": {
            "tags": []
          },
          "execution_count": 62
        }
      ]
    },
    {
      "metadata": {
        "id": "_7_4O1lFAx4d",
        "colab_type": "code",
        "colab": {
          "base_uri": "https://localhost:8080/",
          "height": 34
        },
        "outputId": "076505dc-7ee6-49b7-c0d5-5420222d001d"
      },
      "cell_type": "code",
      "source": [
        "type(str(my_int))\n"
      ],
      "execution_count": 65,
      "outputs": [
        {
          "output_type": "execute_result",
          "data": {
            "text/plain": [
              "str"
            ]
          },
          "metadata": {
            "tags": []
          },
          "execution_count": 65
        }
      ]
    },
    {
      "metadata": {
        "id": "5aOOzwHQA0wb",
        "colab_type": "code",
        "colab": {}
      },
      "cell_type": "code",
      "source": [
        "my_sr = \"coding\""
      ],
      "execution_count": 0,
      "outputs": []
    },
    {
      "metadata": {
        "id": "V_MrCW9BA-vI",
        "colab_type": "code",
        "colab": {
          "base_uri": "https://localhost:8080/",
          "height": 34
        },
        "outputId": "a3ff7e3f-68d5-49fe-aafe-d9772c79728b"
      },
      "cell_type": "code",
      "source": [
        "list(my_sr) #강제로 변환"
      ],
      "execution_count": 67,
      "outputs": [
        {
          "output_type": "execute_result",
          "data": {
            "text/plain": [
              "['c', 'o', 'd', 'i', 'n', 'g']"
            ]
          },
          "metadata": {
            "tags": []
          },
          "execution_count": 67
        }
      ]
    },
    {
      "metadata": {
        "id": "paiPQGnQBRQ3",
        "colab_type": "text"
      },
      "cell_type": "markdown",
      "source": [
        "###String"
      ]
    },
    {
      "metadata": {
        "id": "7q9rjBLeBBcJ",
        "colab_type": "code",
        "colab": {}
      },
      "cell_type": "code",
      "source": [
        "my_str = '노씨네 가족'"
      ],
      "execution_count": 0,
      "outputs": []
    },
    {
      "metadata": {
        "id": "85CoLf4bBWHu",
        "colab_type": "code",
        "colab": {
          "base_uri": "https://localhost:8080/",
          "height": 34
        },
        "outputId": "08f52d59-2bde-4976-f58a-65dd9aa3a818"
      },
      "cell_type": "code",
      "source": [
        "print(my_str)"
      ],
      "execution_count": 70,
      "outputs": [
        {
          "output_type": "stream",
          "text": [
            "노씨네 가족\n"
          ],
          "name": "stdout"
        }
      ]
    },
    {
      "metadata": {
        "id": "BPOP8aVbBX5k",
        "colab_type": "code",
        "colab": {}
      },
      "cell_type": "code",
      "source": [
        "my_str = \"하하네 가족\""
      ],
      "execution_count": 0,
      "outputs": []
    },
    {
      "metadata": {
        "id": "drRORCcgBdF2",
        "colab_type": "code",
        "colab": {
          "base_uri": "https://localhost:8080/",
          "height": 34
        },
        "outputId": "086d895e-805c-4b96-eaa1-f9b1c3e01a23"
      },
      "cell_type": "code",
      "source": [
        "type(my_str)"
      ],
      "execution_count": 73,
      "outputs": [
        {
          "output_type": "execute_result",
          "data": {
            "text/plain": [
              "str"
            ]
          },
          "metadata": {
            "tags": []
          },
          "execution_count": 73
        }
      ]
    },
    {
      "metadata": {
        "id": "0TgUY4xeBhfv",
        "colab_type": "code",
        "colab": {}
      },
      "cell_type": "code",
      "source": [
        "#큰따움표 or 작은 따옴표 세개 쓰는 경우 줄바꿈을 의미한다."
      ],
      "execution_count": 0,
      "outputs": []
    },
    {
      "metadata": {
        "id": "ibhi-bRbBnVe",
        "colab_type": "code",
        "colab": {}
      },
      "cell_type": "code",
      "source": [
        "my_str = \"\"\"jack \n",
        "micle\n",
        "jason\"\"\""
      ],
      "execution_count": 0,
      "outputs": []
    },
    {
      "metadata": {
        "id": "X5qtFizgE07v",
        "colab_type": "code",
        "colab": {
          "base_uri": "https://localhost:8080/",
          "height": 34
        },
        "outputId": "8e90b04b-dee2-4e6f-8490-92dd43814955"
      },
      "cell_type": "code",
      "source": [
        "my_str"
      ],
      "execution_count": 76,
      "outputs": [
        {
          "output_type": "execute_result",
          "data": {
            "text/plain": [
              "'jack \\nmicle\\njason'"
            ]
          },
          "metadata": {
            "tags": []
          },
          "execution_count": 76
        }
      ]
    },
    {
      "metadata": {
        "id": "Wi2l5xdNE1xZ",
        "colab_type": "code",
        "colab": {}
      },
      "cell_type": "code",
      "source": [
        "#Formatting "
      ],
      "execution_count": 0,
      "outputs": []
    },
    {
      "metadata": {
        "id": "1QhwuqxhFEDs",
        "colab_type": "code",
        "colab": {}
      },
      "cell_type": "code",
      "source": [
        "my_str = 'my name is %s' %'taehyun'"
      ],
      "execution_count": 0,
      "outputs": []
    },
    {
      "metadata": {
        "id": "z2NcawcOFKUn",
        "colab_type": "code",
        "colab": {
          "base_uri": "https://localhost:8080/",
          "height": 34
        },
        "outputId": "eddfdb0a-2db4-4c5a-fe63-ce12082ac6bf"
      },
      "cell_type": "code",
      "source": [
        "my_str"
      ],
      "execution_count": 79,
      "outputs": [
        {
          "output_type": "execute_result",
          "data": {
            "text/plain": [
              "'my name is taehyun'"
            ]
          },
          "metadata": {
            "tags": []
          },
          "execution_count": 79
        }
      ]
    },
    {
      "metadata": {
        "id": "j_ALD2R1FK7t",
        "colab_type": "code",
        "colab": {
          "base_uri": "https://localhost:8080/",
          "height": 34
        },
        "outputId": "1c76b474-954e-401d-c8d2-e7ea54cf7db9"
      },
      "cell_type": "code",
      "source": [
        "'%d %d' % (1,2) #정수형"
      ],
      "execution_count": 81,
      "outputs": [
        {
          "output_type": "execute_result",
          "data": {
            "text/plain": [
              "'1 2'"
            ]
          },
          "metadata": {
            "tags": []
          },
          "execution_count": 81
        }
      ]
    },
    {
      "metadata": {
        "id": "7HSKTXaoFN4d",
        "colab_type": "code",
        "colab": {
          "base_uri": "https://localhost:8080/",
          "height": 34
        },
        "outputId": "4e555570-0f70-4c65-8ffe-7539d0577873"
      },
      "cell_type": "code",
      "source": [
        "'%f' % 3.14 #실수형"
      ],
      "execution_count": 83,
      "outputs": [
        {
          "output_type": "execute_result",
          "data": {
            "text/plain": [
              "'3.140000'"
            ]
          },
          "metadata": {
            "tags": []
          },
          "execution_count": 83
        }
      ]
    },
    {
      "metadata": {
        "id": "5i-VypSSFpWw",
        "colab_type": "text"
      },
      "cell_type": "markdown",
      "source": [
        "#### '{  }'.format()"
      ]
    },
    {
      "metadata": {
        "id": "35ary5XcFSmi",
        "colab_type": "code",
        "colab": {
          "base_uri": "https://localhost:8080/",
          "height": 34
        },
        "outputId": "9cd12fd3-53d2-4ff8-b19c-588685853d6f"
      },
      "cell_type": "code",
      "source": [
        "'My name is %s'% '노태현'"
      ],
      "execution_count": 84,
      "outputs": [
        {
          "output_type": "execute_result",
          "data": {
            "text/plain": [
              "'My name is 노태현'"
            ]
          },
          "metadata": {
            "tags": []
          },
          "execution_count": 84
        }
      ]
    },
    {
      "metadata": {
        "id": "6QsFVBYTFSkm",
        "colab_type": "code",
        "colab": {
          "base_uri": "https://localhost:8080/",
          "height": 34
        },
        "outputId": "6dc30357-6568-43e1-fefd-95ea2859e6f5"
      },
      "cell_type": "code",
      "source": [
        "'My name is {}'.format('taehyun')"
      ],
      "execution_count": 85,
      "outputs": [
        {
          "output_type": "execute_result",
          "data": {
            "text/plain": [
              "'My name is taehyun'"
            ]
          },
          "metadata": {
            "tags": []
          },
          "execution_count": 85
        }
      ]
    },
    {
      "metadata": {
        "id": "rO1iqgnwFSg6",
        "colab_type": "code",
        "colab": {
          "base_uri": "https://localhost:8080/",
          "height": 34
        },
        "outputId": "d82f19bb-edb8-45ef-9741-f3ba99957966"
      },
      "cell_type": "code",
      "source": [
        "'{} X {} = {}'.format(2,3,2*3)"
      ],
      "execution_count": 86,
      "outputs": [
        {
          "output_type": "execute_result",
          "data": {
            "text/plain": [
              "'2 X 3 = 6'"
            ]
          },
          "metadata": {
            "tags": []
          },
          "execution_count": 86
        }
      ]
    },
    {
      "metadata": {
        "id": "No48WXtfFSeF",
        "colab_type": "code",
        "colab": {
          "base_uri": "https://localhost:8080/",
          "height": 34
        },
        "outputId": "d4acaae5-81d3-45b0-a2aa-956d16bd10c3"
      },
      "cell_type": "code",
      "source": [
        "'{1} X {0} = {2}'.format(2,3,2*3) #순서 지정을 할 수 있다."
      ],
      "execution_count": 88,
      "outputs": [
        {
          "output_type": "execute_result",
          "data": {
            "text/plain": [
              "'3 X 2 = 6'"
            ]
          },
          "metadata": {
            "tags": []
          },
          "execution_count": 88
        }
      ]
    },
    {
      "metadata": {
        "id": "1A2gcJr2GNPz",
        "colab_type": "text"
      },
      "cell_type": "markdown",
      "source": [
        "####index"
      ]
    },
    {
      "metadata": {
        "id": "CxF-pMhAFSbD",
        "colab_type": "code",
        "colab": {}
      },
      "cell_type": "code",
      "source": [
        "my_name = \"김왼손의 왼손코딩\""
      ],
      "execution_count": 0,
      "outputs": []
    },
    {
      "metadata": {
        "id": "5JfF_24VFSXQ",
        "colab_type": "code",
        "colab": {
          "base_uri": "https://localhost:8080/",
          "height": 34
        },
        "outputId": "0d62640c-5c26-4055-85fa-cdd73ddebc7f"
      },
      "cell_type": "code",
      "source": [
        "my_name[3]"
      ],
      "execution_count": 90,
      "outputs": [
        {
          "output_type": "execute_result",
          "data": {
            "text/plain": [
              "'의'"
            ]
          },
          "metadata": {
            "tags": []
          },
          "execution_count": 90
        }
      ]
    },
    {
      "metadata": {
        "id": "1PByI0AZFSTp",
        "colab_type": "code",
        "colab": {
          "base_uri": "https://localhost:8080/",
          "height": 34
        },
        "outputId": "54c14b6f-59b3-4302-f2d4-26b6bcfa657f"
      },
      "cell_type": "code",
      "source": [
        "my_name[4]"
      ],
      "execution_count": 91,
      "outputs": [
        {
          "output_type": "execute_result",
          "data": {
            "text/plain": [
              "' '"
            ]
          },
          "metadata": {
            "tags": []
          },
          "execution_count": 91
        }
      ]
    },
    {
      "metadata": {
        "id": "Fk5lvostFSQs",
        "colab_type": "code",
        "colab": {
          "base_uri": "https://localhost:8080/",
          "height": 34
        },
        "outputId": "be95ede0-1524-4d16-92db-bbc2a25d0111"
      },
      "cell_type": "code",
      "source": [
        "my_name[-1]"
      ],
      "execution_count": 92,
      "outputs": [
        {
          "output_type": "execute_result",
          "data": {
            "text/plain": [
              "'딩'"
            ]
          },
          "metadata": {
            "tags": []
          },
          "execution_count": 92
        }
      ]
    },
    {
      "metadata": {
        "id": "aaHI67HYHDWO",
        "colab_type": "text"
      },
      "cell_type": "markdown",
      "source": [
        "####slicing"
      ]
    },
    {
      "metadata": {
        "id": "OYlRvMlaFSNP",
        "colab_type": "code",
        "colab": {}
      },
      "cell_type": "code",
      "source": [
        "str_python = 'Python'"
      ],
      "execution_count": 0,
      "outputs": []
    },
    {
      "metadata": {
        "id": "E81EPwybFSJy",
        "colab_type": "code",
        "colab": {
          "base_uri": "https://localhost:8080/",
          "height": 34
        },
        "outputId": "f35bdefe-4150-4053-8815-c3a695033651"
      },
      "cell_type": "code",
      "source": [
        "str_python[1:4]"
      ],
      "execution_count": 94,
      "outputs": [
        {
          "output_type": "execute_result",
          "data": {
            "text/plain": [
              "'yth'"
            ]
          },
          "metadata": {
            "tags": []
          },
          "execution_count": 94
        }
      ]
    },
    {
      "metadata": {
        "id": "MaviAR7UFSG_",
        "colab_type": "code",
        "colab": {
          "base_uri": "https://localhost:8080/",
          "height": 34
        },
        "outputId": "0ee0163f-8b43-45f8-8fca-8d64585dfb7d"
      },
      "cell_type": "code",
      "source": [
        "my_name"
      ],
      "execution_count": 95,
      "outputs": [
        {
          "output_type": "execute_result",
          "data": {
            "text/plain": [
              "'김왼손의 왼손코딩'"
            ]
          },
          "metadata": {
            "tags": []
          },
          "execution_count": 95
        }
      ]
    },
    {
      "metadata": {
        "id": "UUaoH3XZFSES",
        "colab_type": "code",
        "colab": {
          "base_uri": "https://localhost:8080/",
          "height": 34
        },
        "outputId": "fd7a5446-bbf1-476e-cdb1-b3fc21713e5d"
      },
      "cell_type": "code",
      "source": [
        "my_name[1:3]"
      ],
      "execution_count": 96,
      "outputs": [
        {
          "output_type": "execute_result",
          "data": {
            "text/plain": [
              "'왼손'"
            ]
          },
          "metadata": {
            "tags": []
          },
          "execution_count": 96
        }
      ]
    },
    {
      "metadata": {
        "id": "sF7lq7FwHhh_",
        "colab_type": "code",
        "colab": {
          "base_uri": "https://localhost:8080/",
          "height": 34
        },
        "outputId": "9acbbbcf-9396-4784-f6d3-f24c8576b708"
      },
      "cell_type": "code",
      "source": [
        "my_name[:3]"
      ],
      "execution_count": 97,
      "outputs": [
        {
          "output_type": "execute_result",
          "data": {
            "text/plain": [
              "'김왼손'"
            ]
          },
          "metadata": {
            "tags": []
          },
          "execution_count": 97
        }
      ]
    },
    {
      "metadata": {
        "id": "BVtTgG_OHtMx",
        "colab_type": "code",
        "colab": {
          "base_uri": "https://localhost:8080/",
          "height": 34
        },
        "outputId": "7ec25948-124a-4f62-c5ff-c4135b6e3ec4"
      },
      "cell_type": "code",
      "source": [
        "my_name[5:]"
      ],
      "execution_count": 98,
      "outputs": [
        {
          "output_type": "execute_result",
          "data": {
            "text/plain": [
              "' 왼손코딩'"
            ]
          },
          "metadata": {
            "tags": []
          },
          "execution_count": 98
        }
      ]
    },
    {
      "metadata": {
        "id": "QGXPMvgZH1h1",
        "colab_type": "code",
        "colab": {
          "base_uri": "https://localhost:8080/",
          "height": 34
        },
        "outputId": "1c69db7c-85ef-4db0-846c-a3a11dc252db"
      },
      "cell_type": "code",
      "source": [
        "my_name[:]"
      ],
      "execution_count": 99,
      "outputs": [
        {
          "output_type": "execute_result",
          "data": {
            "text/plain": [
              "'김왼손의 왼손코딩'"
            ]
          },
          "metadata": {
            "tags": []
          },
          "execution_count": 99
        }
      ]
    },
    {
      "metadata": {
        "id": "8mrQm7HIIGKY",
        "colab_type": "text"
      },
      "cell_type": "markdown",
      "source": [
        "####string.split()"
      ]
    },
    {
      "metadata": {
        "id": "yEl-gpLrH6w7",
        "colab_type": "code",
        "colab": {
          "base_uri": "https://localhost:8080/",
          "height": 34
        },
        "outputId": "d9531935-eaed-4dea-9711-07d60f25107c"
      },
      "cell_type": "code",
      "source": [
        "my_name.split()"
      ],
      "execution_count": 100,
      "outputs": [
        {
          "output_type": "execute_result",
          "data": {
            "text/plain": [
              "['김왼손의', '왼손코딩']"
            ]
          },
          "metadata": {
            "tags": []
          },
          "execution_count": 100
        }
      ]
    },
    {
      "metadata": {
        "id": "2LM_TmTgIQCy",
        "colab_type": "code",
        "colab": {}
      },
      "cell_type": "code",
      "source": [
        "fruit_str = '거봉 수박 포도 복숭아 망고 딸기'"
      ],
      "execution_count": 0,
      "outputs": []
    },
    {
      "metadata": {
        "id": "LN4mXK0EJ3xH",
        "colab_type": "code",
        "colab": {}
      },
      "cell_type": "code",
      "source": [
        "frutis = fruit_str.split()"
      ],
      "execution_count": 0,
      "outputs": []
    },
    {
      "metadata": {
        "id": "RGB0h4GsJ7ra",
        "colab_type": "code",
        "colab": {
          "base_uri": "https://localhost:8080/",
          "height": 34
        },
        "outputId": "6ecc295a-5f99-4f5b-c9a9-8a0e17401bef"
      },
      "cell_type": "code",
      "source": [
        "frutis"
      ],
      "execution_count": 103,
      "outputs": [
        {
          "output_type": "execute_result",
          "data": {
            "text/plain": [
              "['거봉', '수박', '포도', '복숭아', '망고', '딸기']"
            ]
          },
          "metadata": {
            "tags": []
          },
          "execution_count": 103
        }
      ]
    },
    {
      "metadata": {
        "id": "9Ph51odAKL8R",
        "colab_type": "text"
      },
      "cell_type": "markdown",
      "source": [
        "####print 이스케이프 코드"
      ]
    },
    {
      "metadata": {
        "id": "eCOD-QvaJ8nY",
        "colab_type": "code",
        "colab": {
          "base_uri": "https://localhost:8080/",
          "height": 34
        },
        "outputId": "76b607ae-c1f1-4908-d359-a2a0f050db36"
      },
      "cell_type": "code",
      "source": [
        "print('집단지성') #기본으로 마지막에 엔터가 들어간다"
      ],
      "execution_count": 104,
      "outputs": [
        {
          "output_type": "stream",
          "text": [
            "집단지성\n"
          ],
          "name": "stdout"
        }
      ]
    },
    {
      "metadata": {
        "id": "AAD-iBpDKd1E",
        "colab_type": "code",
        "colab": {
          "base_uri": "https://localhost:8080/",
          "height": 34
        },
        "outputId": "ed312a8b-f7a8-4693-9f27-cd0f46801172"
      },
      "cell_type": "code",
      "source": [
        "print('집단 지성', end = '')"
      ],
      "execution_count": 105,
      "outputs": [
        {
          "output_type": "stream",
          "text": [
            "집단 지성"
          ],
          "name": "stdout"
        }
      ]
    },
    {
      "metadata": {
        "id": "AHmHJHPbKj8R",
        "colab_type": "code",
        "colab": {
          "base_uri": "https://localhost:8080/",
          "height": 34
        },
        "outputId": "d906967a-9df4-4065-e16e-a9b37a556ddb"
      },
      "cell_type": "code",
      "source": [
        "print('집단 지성', end = '/')"
      ],
      "execution_count": 106,
      "outputs": [
        {
          "output_type": "stream",
          "text": [
            "집단 지성/"
          ],
          "name": "stdout"
        }
      ]
    },
    {
      "metadata": {
        "id": "gFcDE9GLKlaA",
        "colab_type": "code",
        "colab": {
          "base_uri": "https://localhost:8080/",
          "height": 34
        },
        "outputId": "12338f34-8862-4d59-da8c-67b2a3730c52"
      },
      "cell_type": "code",
      "source": [
        "print('집단 지성', end = '파이썬 마스터하자')"
      ],
      "execution_count": 107,
      "outputs": [
        {
          "output_type": "stream",
          "text": [
            "집단 지성파이썬 마스터하자"
          ],
          "name": "stdout"
        }
      ]
    },
    {
      "metadata": {
        "id": "W8lKl-p3Kpoo",
        "colab_type": "text"
      },
      "cell_type": "markdown",
      "source": [
        "####Escape code"
      ]
    },
    {
      "metadata": {
        "id": "hOv6oiIjKnnY",
        "colab_type": "code",
        "colab": {
          "base_uri": "https://localhost:8080/",
          "height": 34
        },
        "outputId": "8b1f7ed4-a60a-45fa-f74e-794d3f8d25af"
      },
      "cell_type": "code",
      "source": [
        "print('미운코딩새끼의 집단 지성들')"
      ],
      "execution_count": 108,
      "outputs": [
        {
          "output_type": "stream",
          "text": [
            "미운코딩새끼의 집단 지성들\n"
          ],
          "name": "stdout"
        }
      ]
    },
    {
      "metadata": {
        "id": "pLfHghx1Ky-g",
        "colab_type": "code",
        "colab": {
          "base_uri": "https://localhost:8080/",
          "height": 52
        },
        "outputId": "776235bd-9684-4c55-be6f-d06cea0cf233"
      },
      "cell_type": "code",
      "source": [
        "print('미운코딩새끼의 \\n집단 지성들')"
      ],
      "execution_count": 109,
      "outputs": [
        {
          "output_type": "stream",
          "text": [
            "미운코딩새끼의 \n",
            "집단 지성들\n"
          ],
          "name": "stdout"
        }
      ]
    },
    {
      "metadata": {
        "id": "Ap8trDjAK2Fx",
        "colab_type": "code",
        "colab": {
          "base_uri": "https://localhost:8080/",
          "height": 34
        },
        "outputId": "efa6262c-f6e8-4d1c-91fd-7ba28c0f5e17"
      },
      "cell_type": "code",
      "source": [
        "print('미운코딩새끼의 \\t집단 지성들')"
      ],
      "execution_count": 110,
      "outputs": [
        {
          "output_type": "stream",
          "text": [
            "미운코딩새끼의 \t집단 지성들\n"
          ],
          "name": "stdout"
        }
      ]
    },
    {
      "metadata": {
        "id": "L1HwVB5nK4fu",
        "colab_type": "code",
        "colab": {
          "base_uri": "https://localhost:8080/",
          "height": 69
        },
        "outputId": "08c3508f-9415-4095-bea2-83fcab1fa2a8"
      },
      "cell_type": "code",
      "source": [
        "print('미운코딩새끼의\\n집단\\n지성들')"
      ],
      "execution_count": 112,
      "outputs": [
        {
          "output_type": "stream",
          "text": [
            "미운코딩새끼의\n",
            "집단\n",
            "지성들\n"
          ],
          "name": "stdout"
        }
      ]
    },
    {
      "metadata": {
        "id": "CC4CzbCXK7Qa",
        "colab_type": "code",
        "colab": {
          "base_uri": "https://localhost:8080/",
          "height": 52
        },
        "outputId": "34501195-7d91-49e4-e0bf-882fcf565931"
      },
      "cell_type": "code",
      "source": [
        "print('미운코딩새끼의\\t집단\\n지성들')"
      ],
      "execution_count": 113,
      "outputs": [
        {
          "output_type": "stream",
          "text": [
            "미운코딩새끼의\t집단\n",
            "지성들\n"
          ],
          "name": "stdout"
        }
      ]
    },
    {
      "metadata": {
        "id": "ip2FLNK9LBtT",
        "colab_type": "code",
        "colab": {
          "base_uri": "https://localhost:8080/",
          "height": 34
        },
        "outputId": "1bc60288-fb84-4834-eea5-32b249fd4bf2"
      },
      "cell_type": "code",
      "source": [
        "print('미운', end = '\\t')"
      ],
      "execution_count": 115,
      "outputs": [
        {
          "output_type": "stream",
          "text": [
            "미운\t"
          ],
          "name": "stdout"
        }
      ]
    },
    {
      "metadata": {
        "id": "UrhFDpyQLIv9",
        "colab_type": "code",
        "colab": {
          "base_uri": "https://localhost:8080/",
          "height": 34
        },
        "outputId": "8273a884-0f4d-48c5-e083-6d23f5c2d934"
      },
      "cell_type": "code",
      "source": [
        "print('미운', end = '\\n')"
      ],
      "execution_count": 116,
      "outputs": [
        {
          "output_type": "stream",
          "text": [
            "미운\n"
          ],
          "name": "stdout"
        }
      ]
    },
    {
      "metadata": {
        "id": "vSibWk_eLPKc",
        "colab_type": "code",
        "colab": {
          "base_uri": "https://localhost:8080/",
          "height": 34
        },
        "outputId": "7b116ad7-82ee-4321-be08-072846c07bc5"
      },
      "cell_type": "code",
      "source": [
        "print('미운', end = '\\t'); print('코딩')"
      ],
      "execution_count": 117,
      "outputs": [
        {
          "output_type": "stream",
          "text": [
            "미운\t코딩\n"
          ],
          "name": "stdout"
        }
      ]
    },
    {
      "metadata": {
        "id": "2QkgKzXqLhfw",
        "colab_type": "text"
      },
      "cell_type": "markdown",
      "source": [
        "###List"
      ]
    },
    {
      "metadata": {
        "id": "lwJIhwWhLYic",
        "colab_type": "code",
        "colab": {}
      },
      "cell_type": "code",
      "source": [
        "my_list = []"
      ],
      "execution_count": 0,
      "outputs": []
    },
    {
      "metadata": {
        "id": "tWfHWUMfOXyu",
        "colab_type": "code",
        "colab": {
          "base_uri": "https://localhost:8080/",
          "height": 34
        },
        "outputId": "b1c9f263-cad3-4776-fdc3-130cfa49115f"
      },
      "cell_type": "code",
      "source": [
        "my_list"
      ],
      "execution_count": 119,
      "outputs": [
        {
          "output_type": "execute_result",
          "data": {
            "text/plain": [
              "[]"
            ]
          },
          "metadata": {
            "tags": []
          },
          "execution_count": 119
        }
      ]
    },
    {
      "metadata": {
        "id": "QNBhcVchOYof",
        "colab_type": "code",
        "colab": {
          "base_uri": "https://localhost:8080/",
          "height": 34
        },
        "outputId": "8b567ea0-4c84-423a-f491-c0e032e0f4a1"
      },
      "cell_type": "code",
      "source": [
        "type(my_list)"
      ],
      "execution_count": 120,
      "outputs": [
        {
          "output_type": "execute_result",
          "data": {
            "text/plain": [
              "list"
            ]
          },
          "metadata": {
            "tags": []
          },
          "execution_count": 120
        }
      ]
    },
    {
      "metadata": {
        "id": "g4mSlC_VOZww",
        "colab_type": "code",
        "colab": {}
      },
      "cell_type": "code",
      "source": [
        "my_list = [1,2,3]"
      ],
      "execution_count": 0,
      "outputs": []
    },
    {
      "metadata": {
        "id": "ADayC1l4OcXV",
        "colab_type": "code",
        "colab": {
          "base_uri": "https://localhost:8080/",
          "height": 34
        },
        "outputId": "fc46a647-b40e-4abc-8315-e5d4ed8f1387"
      },
      "cell_type": "code",
      "source": [
        "my_list"
      ],
      "execution_count": 122,
      "outputs": [
        {
          "output_type": "execute_result",
          "data": {
            "text/plain": [
              "[1, 2, 3]"
            ]
          },
          "metadata": {
            "tags": []
          },
          "execution_count": 122
        }
      ]
    },
    {
      "metadata": {
        "id": "dOQQ3Jp6OhuG",
        "colab_type": "text"
      },
      "cell_type": "markdown",
      "source": [
        ".append() list 만 사용가능"
      ]
    },
    {
      "metadata": {
        "id": "5k23tk4uOdQW",
        "colab_type": "code",
        "colab": {}
      },
      "cell_type": "code",
      "source": [
        "my_list.append('1')"
      ],
      "execution_count": 0,
      "outputs": []
    },
    {
      "metadata": {
        "id": "oo4JZDI5OnZM",
        "colab_type": "code",
        "colab": {
          "base_uri": "https://localhost:8080/",
          "height": 34
        },
        "outputId": "e5efdd1c-e077-494f-a53a-d5ef39c5b955"
      },
      "cell_type": "code",
      "source": [
        "my_list"
      ],
      "execution_count": 124,
      "outputs": [
        {
          "output_type": "execute_result",
          "data": {
            "text/plain": [
              "[1, 2, 3, '1']"
            ]
          },
          "metadata": {
            "tags": []
          },
          "execution_count": 124
        }
      ]
    },
    {
      "metadata": {
        "id": "i35bj4KfOoZa",
        "colab_type": "code",
        "colab": {}
      },
      "cell_type": "code",
      "source": [
        "my_list.append(\"이것이 리스트!\")"
      ],
      "execution_count": 0,
      "outputs": []
    },
    {
      "metadata": {
        "id": "BRDEIbjyO6mT",
        "colab_type": "code",
        "colab": {
          "base_uri": "https://localhost:8080/",
          "height": 34
        },
        "outputId": "8f1f7e7e-eba6-4225-cae8-a70620a7dba1"
      },
      "cell_type": "code",
      "source": [
        "my_list"
      ],
      "execution_count": 126,
      "outputs": [
        {
          "output_type": "execute_result",
          "data": {
            "text/plain": [
              "[1, 2, 3, '1', '이것이 리스트!']"
            ]
          },
          "metadata": {
            "tags": []
          },
          "execution_count": 126
        }
      ]
    },
    {
      "metadata": {
        "id": "MbEGYhItO7x_",
        "colab_type": "code",
        "colab": {}
      },
      "cell_type": "code",
      "source": [
        "animals =['코알라','하이에나','다람쥐',\"토끼\"]"
      ],
      "execution_count": 0,
      "outputs": []
    },
    {
      "metadata": {
        "id": "EZWhUhouRET6",
        "colab_type": "code",
        "colab": {
          "base_uri": "https://localhost:8080/",
          "height": 34
        },
        "outputId": "601064ce-767c-4783-b089-dda7611ee480"
      },
      "cell_type": "code",
      "source": [
        "animals"
      ],
      "execution_count": 131,
      "outputs": [
        {
          "output_type": "execute_result",
          "data": {
            "text/plain": [
              "['코알라', '하이에나', '다람쥐', '토끼']"
            ]
          },
          "metadata": {
            "tags": []
          },
          "execution_count": 131
        }
      ]
    },
    {
      "metadata": {
        "id": "8RzdNKk6RLEU",
        "colab_type": "code",
        "colab": {}
      },
      "cell_type": "code",
      "source": [
        "animals.append('코뿔소')"
      ],
      "execution_count": 0,
      "outputs": []
    },
    {
      "metadata": {
        "id": "Q8lXiAauRQfm",
        "colab_type": "code",
        "colab": {
          "base_uri": "https://localhost:8080/",
          "height": 34
        },
        "outputId": "f967d242-d004-4a42-d0ed-9f5b19d3eb78"
      },
      "cell_type": "code",
      "source": [
        "print(animals)"
      ],
      "execution_count": 133,
      "outputs": [
        {
          "output_type": "stream",
          "text": [
            "['코알라', '하이에나', '다람쥐', '토끼', '코뿔소']\n"
          ],
          "name": "stdout"
        }
      ]
    },
    {
      "metadata": {
        "id": "-45Ehc_cRd_A",
        "colab_type": "text"
      },
      "cell_type": "markdown",
      "source": [
        "####index"
      ]
    },
    {
      "metadata": {
        "id": "Xwq-1taRRTF8",
        "colab_type": "code",
        "colab": {
          "base_uri": "https://localhost:8080/",
          "height": 168
        },
        "outputId": "9eaa3ce3-ddbe-4dc6-e926-7ee61eaed4f8"
      },
      "cell_type": "code",
      "source": [
        "animals['코알라']"
      ],
      "execution_count": 134,
      "outputs": [
        {
          "output_type": "error",
          "ename": "TypeError",
          "evalue": "ignored",
          "traceback": [
            "\u001b[0;31m---------------------------------------------------------------------------\u001b[0m",
            "\u001b[0;31mTypeError\u001b[0m                                 Traceback (most recent call last)",
            "\u001b[0;32m<ipython-input-134-d40034f588e2>\u001b[0m in \u001b[0;36m<module>\u001b[0;34m()\u001b[0m\n\u001b[0;32m----> 1\u001b[0;31m \u001b[0manimals\u001b[0m\u001b[0;34m[\u001b[0m\u001b[0;34m'코알라'\u001b[0m\u001b[0;34m]\u001b[0m\u001b[0;34m\u001b[0m\u001b[0;34m\u001b[0m\u001b[0m\n\u001b[0m",
            "\u001b[0;31mTypeError\u001b[0m: list indices must be integers or slices, not str"
          ]
        }
      ]
    },
    {
      "metadata": {
        "id": "Ruoyjp2-RaET",
        "colab_type": "code",
        "colab": {
          "base_uri": "https://localhost:8080/",
          "height": 34
        },
        "outputId": "0988d021-a751-474a-ee0e-49203290988b"
      },
      "cell_type": "code",
      "source": [
        "animals[3]"
      ],
      "execution_count": 135,
      "outputs": [
        {
          "output_type": "execute_result",
          "data": {
            "text/plain": [
              "'토끼'"
            ]
          },
          "metadata": {
            "tags": []
          },
          "execution_count": 135
        }
      ]
    },
    {
      "metadata": {
        "id": "TyfqC1AERbvR",
        "colab_type": "code",
        "colab": {}
      },
      "cell_type": "code",
      "source": [
        "del animals[3]"
      ],
      "execution_count": 0,
      "outputs": []
    },
    {
      "metadata": {
        "id": "0rtA3tjrRjKL",
        "colab_type": "code",
        "colab": {
          "base_uri": "https://localhost:8080/",
          "height": 34
        },
        "outputId": "adfbd248-82b5-4c45-f117-7a0a94687ac6"
      },
      "cell_type": "code",
      "source": [
        "animals"
      ],
      "execution_count": 137,
      "outputs": [
        {
          "output_type": "execute_result",
          "data": {
            "text/plain": [
              "['코알라', '하이에나', '다람쥐', '코뿔소']"
            ]
          },
          "metadata": {
            "tags": []
          },
          "execution_count": 137
        }
      ]
    },
    {
      "metadata": {
        "id": "G2pBBLB6Rkba",
        "colab_type": "code",
        "colab": {}
      },
      "cell_type": "code",
      "source": [
        "animals.append('토끼')"
      ],
      "execution_count": 0,
      "outputs": []
    },
    {
      "metadata": {
        "id": "D5CMpK_RRs3e",
        "colab_type": "code",
        "colab": {
          "base_uri": "https://localhost:8080/",
          "height": 34
        },
        "outputId": "2be73fa7-f7c8-4be3-a374-657cffacb341"
      },
      "cell_type": "code",
      "source": [
        "animals"
      ],
      "execution_count": 142,
      "outputs": [
        {
          "output_type": "execute_result",
          "data": {
            "text/plain": [
              "['코알라', '하이에나', '다람쥐', '코뿔소', '토끼']"
            ]
          },
          "metadata": {
            "tags": []
          },
          "execution_count": 142
        }
      ]
    },
    {
      "metadata": {
        "id": "KjLZ2lQBRw8W",
        "colab_type": "code",
        "colab": {
          "base_uri": "https://localhost:8080/",
          "height": 34
        },
        "outputId": "db79e19e-825f-4ea7-e553-d8dbb59b3657"
      },
      "cell_type": "code",
      "source": [
        "animals[1:3]"
      ],
      "execution_count": 143,
      "outputs": [
        {
          "output_type": "execute_result",
          "data": {
            "text/plain": [
              "['하이에나', '다람쥐']"
            ]
          },
          "metadata": {
            "tags": []
          },
          "execution_count": 143
        }
      ]
    },
    {
      "metadata": {
        "id": "bVhlQaPjR_Dk",
        "colab_type": "text"
      },
      "cell_type": "markdown",
      "source": [
        ""
      ]
    },
    {
      "metadata": {
        "id": "EsEM2uKhSD0w",
        "colab_type": "text"
      },
      "cell_type": "markdown",
      "source": [
        "####list method"
      ]
    },
    {
      "metadata": {
        "id": "BS_lzEk0R620",
        "colab_type": "code",
        "colab": {
          "base_uri": "https://localhost:8080/",
          "height": 34
        },
        "outputId": "431989b2-e291-431e-f4da-c9546e07a00b"
      },
      "cell_type": "code",
      "source": [
        "animals"
      ],
      "execution_count": 144,
      "outputs": [
        {
          "output_type": "execute_result",
          "data": {
            "text/plain": [
              "['코알라', '하이에나', '다람쥐', '코뿔소', '토끼']"
            ]
          },
          "metadata": {
            "tags": []
          },
          "execution_count": 144
        }
      ]
    },
    {
      "metadata": {
        "id": "JDRiKLVOSRR_",
        "colab_type": "text"
      },
      "cell_type": "markdown",
      "source": [
        "list.sort()"
      ]
    },
    {
      "metadata": {
        "id": "l-lzPbFrSIUR",
        "colab_type": "code",
        "colab": {}
      },
      "cell_type": "code",
      "source": [
        "animals.sort()"
      ],
      "execution_count": 0,
      "outputs": []
    },
    {
      "metadata": {
        "id": "HU-tSiQmSJgh",
        "colab_type": "code",
        "colab": {
          "base_uri": "https://localhost:8080/",
          "height": 34
        },
        "outputId": "fd4e81c1-3c31-4375-bd2e-86a36b566f9b"
      },
      "cell_type": "code",
      "source": [
        "animals"
      ],
      "execution_count": 146,
      "outputs": [
        {
          "output_type": "execute_result",
          "data": {
            "text/plain": [
              "['다람쥐', '코뿔소', '코알라', '토끼', '하이에나']"
            ]
          },
          "metadata": {
            "tags": []
          },
          "execution_count": 146
        }
      ]
    },
    {
      "metadata": {
        "id": "Zt-amX8cSKYX",
        "colab_type": "code",
        "colab": {}
      },
      "cell_type": "code",
      "source": [
        "animals.append('코알라')"
      ],
      "execution_count": 0,
      "outputs": []
    },
    {
      "metadata": {
        "id": "UobQSI8pSTTf",
        "colab_type": "text"
      },
      "cell_type": "markdown",
      "source": [
        "list.count()"
      ]
    },
    {
      "metadata": {
        "id": "FITdfSMoSOsd",
        "colab_type": "code",
        "colab": {
          "base_uri": "https://localhost:8080/",
          "height": 34
        },
        "outputId": "e04bb4a1-5d7b-4891-bd68-a77a9b29961a"
      },
      "cell_type": "code",
      "source": [
        "animals.count('코알라')"
      ],
      "execution_count": 149,
      "outputs": [
        {
          "output_type": "execute_result",
          "data": {
            "text/plain": [
              "2"
            ]
          },
          "metadata": {
            "tags": []
          },
          "execution_count": 149
        }
      ]
    },
    {
      "metadata": {
        "id": "rK1hISehSXM8",
        "colab_type": "code",
        "colab": {
          "base_uri": "https://localhost:8080/",
          "height": 34
        },
        "outputId": "83640fb8-8244-46fd-9137-f4daab78d54d"
      },
      "cell_type": "code",
      "source": [
        "animals.count('토끼')"
      ],
      "execution_count": 156,
      "outputs": [
        {
          "output_type": "execute_result",
          "data": {
            "text/plain": [
              "1"
            ]
          },
          "metadata": {
            "tags": []
          },
          "execution_count": 156
        }
      ]
    },
    {
      "metadata": {
        "id": "e59ZqivFSdYs",
        "colab_type": "code",
        "colab": {
          "base_uri": "https://localhost:8080/",
          "height": 34
        },
        "outputId": "0035a3e6-c6b6-4097-9fb8-d3fc372badb2"
      },
      "cell_type": "code",
      "source": [
        "len(animals)"
      ],
      "execution_count": 154,
      "outputs": [
        {
          "output_type": "execute_result",
          "data": {
            "text/plain": [
              "6"
            ]
          },
          "metadata": {
            "tags": []
          },
          "execution_count": 154
        }
      ]
    },
    {
      "metadata": {
        "id": "sfgsfjbiUm84",
        "colab_type": "text"
      },
      "cell_type": "markdown",
      "source": [
        "###Tuple"
      ]
    },
    {
      "metadata": {
        "id": "J3XyLaElUsPC",
        "colab_type": "text"
      },
      "cell_type": "markdown",
      "source": [
        "값 변경 안됨 (), 괄호 안써도 됨"
      ]
    },
    {
      "metadata": {
        "id": "rIRvIF_9SjnC",
        "colab_type": "code",
        "colab": {}
      },
      "cell_type": "code",
      "source": [
        "my_tuble = ()"
      ],
      "execution_count": 0,
      "outputs": []
    },
    {
      "metadata": {
        "id": "G42COqvnUlpL",
        "colab_type": "code",
        "colab": {
          "base_uri": "https://localhost:8080/",
          "height": 34
        },
        "outputId": "18a809d9-0e63-435d-cde0-35821d25fb26"
      },
      "cell_type": "code",
      "source": [
        "type(my_tuble)"
      ],
      "execution_count": 158,
      "outputs": [
        {
          "output_type": "execute_result",
          "data": {
            "text/plain": [
              "tuple"
            ]
          },
          "metadata": {
            "tags": []
          },
          "execution_count": 158
        }
      ]
    },
    {
      "metadata": {
        "id": "ANKwpbKPU0O5",
        "colab_type": "code",
        "colab": {}
      },
      "cell_type": "code",
      "source": [
        "my_tuble =(1,2,3)"
      ],
      "execution_count": 0,
      "outputs": []
    },
    {
      "metadata": {
        "id": "aMRDBW7MU3TE",
        "colab_type": "code",
        "colab": {
          "base_uri": "https://localhost:8080/",
          "height": 34
        },
        "outputId": "5f39fa8e-6386-46a2-84fa-656e735a8367"
      },
      "cell_type": "code",
      "source": [
        "my_tuble"
      ],
      "execution_count": 160,
      "outputs": [
        {
          "output_type": "execute_result",
          "data": {
            "text/plain": [
              "(1, 2, 3)"
            ]
          },
          "metadata": {
            "tags": []
          },
          "execution_count": 160
        }
      ]
    },
    {
      "metadata": {
        "id": "QKx0dWyXU5L1",
        "colab_type": "code",
        "colab": {}
      },
      "cell_type": "code",
      "source": [
        "my_tuple = 1,2,3"
      ],
      "execution_count": 0,
      "outputs": []
    },
    {
      "metadata": {
        "id": "8ggUhf-xU7I5",
        "colab_type": "code",
        "colab": {
          "base_uri": "https://localhost:8080/",
          "height": 34
        },
        "outputId": "b364ae90-4cb6-428e-8174-01648821abd3"
      },
      "cell_type": "code",
      "source": [
        "my_tuple"
      ],
      "execution_count": 162,
      "outputs": [
        {
          "output_type": "execute_result",
          "data": {
            "text/plain": [
              "(1, 2, 3)"
            ]
          },
          "metadata": {
            "tags": []
          },
          "execution_count": 162
        }
      ]
    },
    {
      "metadata": {
        "id": "DYfqRif8U8e5",
        "colab_type": "code",
        "colab": {}
      },
      "cell_type": "code",
      "source": [
        ""
      ],
      "execution_count": 0,
      "outputs": []
    },
    {
      "metadata": {
        "id": "pqXtErtFU-Xx",
        "colab_type": "text"
      },
      "cell_type": "markdown",
      "source": [
        "####Packing, Unpacking"
      ]
    },
    {
      "metadata": {
        "id": "7dHMpgokVBrE",
        "colab_type": "code",
        "colab": {}
      },
      "cell_type": "code",
      "source": [
        "my_tuple = 1,2,3 #packing"
      ],
      "execution_count": 0,
      "outputs": []
    },
    {
      "metadata": {
        "id": "pn1T5CnoVJTG",
        "colab_type": "code",
        "colab": {}
      },
      "cell_type": "code",
      "source": [
        "num1,num2,num3 = my_tuple #unmpacking"
      ],
      "execution_count": 0,
      "outputs": []
    },
    {
      "metadata": {
        "id": "k0pcLqGYVTaV",
        "colab_type": "code",
        "colab": {
          "base_uri": "https://localhost:8080/",
          "height": 34
        },
        "outputId": "81e0cadc-2b8e-4509-df75-b69a90c5e0f7"
      },
      "cell_type": "code",
      "source": [
        "num1"
      ],
      "execution_count": 168,
      "outputs": [
        {
          "output_type": "execute_result",
          "data": {
            "text/plain": [
              "1"
            ]
          },
          "metadata": {
            "tags": []
          },
          "execution_count": 168
        }
      ]
    },
    {
      "metadata": {
        "id": "KScNizrEVXYY",
        "colab_type": "code",
        "colab": {
          "base_uri": "https://localhost:8080/",
          "height": 34
        },
        "outputId": "00a2adca-e608-44f6-8f1d-30eec8b491ee"
      },
      "cell_type": "code",
      "source": [
        "num2"
      ],
      "execution_count": 169,
      "outputs": [
        {
          "output_type": "execute_result",
          "data": {
            "text/plain": [
              "2"
            ]
          },
          "metadata": {
            "tags": []
          },
          "execution_count": 169
        }
      ]
    },
    {
      "metadata": {
        "id": "zj2MZqVHVX7j",
        "colab_type": "code",
        "colab": {
          "base_uri": "https://localhost:8080/",
          "height": 34
        },
        "outputId": "571dba4a-3eb9-4972-a4d1-941978027a57"
      },
      "cell_type": "code",
      "source": [
        "num3"
      ],
      "execution_count": 170,
      "outputs": [
        {
          "output_type": "execute_result",
          "data": {
            "text/plain": [
              "3"
            ]
          },
          "metadata": {
            "tags": []
          },
          "execution_count": 170
        }
      ]
    },
    {
      "metadata": {
        "id": "5uZ-RCg_VYRB",
        "colab_type": "code",
        "colab": {}
      },
      "cell_type": "code",
      "source": [
        "num1,num2 = num2, num1"
      ],
      "execution_count": 0,
      "outputs": []
    },
    {
      "metadata": {
        "id": "deyq7B_wVexo",
        "colab_type": "code",
        "colab": {
          "base_uri": "https://localhost:8080/",
          "height": 34
        },
        "outputId": "29da3288-b7c8-4a55-beaf-9d9d10c14bf9"
      },
      "cell_type": "code",
      "source": [
        "num1"
      ],
      "execution_count": 172,
      "outputs": [
        {
          "output_type": "execute_result",
          "data": {
            "text/plain": [
              "2"
            ]
          },
          "metadata": {
            "tags": []
          },
          "execution_count": 172
        }
      ]
    },
    {
      "metadata": {
        "id": "zivPxkCNVfef",
        "colab_type": "code",
        "colab": {}
      },
      "cell_type": "code",
      "source": [
        "#변수의 값을 바꿀수 있다. "
      ],
      "execution_count": 0,
      "outputs": []
    },
    {
      "metadata": {
        "id": "0nYHsfQvVkg2",
        "colab_type": "text"
      },
      "cell_type": "markdown",
      "source": [
        "####for"
      ]
    },
    {
      "metadata": {
        "id": "j_rEOcX2Ww2u",
        "colab_type": "text"
      },
      "cell_type": "markdown",
      "source": [
        "for 변수 in 컨테이너 :\n",
        "    실행할 명령1\n",
        "    실행할 명령2"
      ]
    },
    {
      "metadata": {
        "id": "-ddexIY6VjHo",
        "colab_type": "code",
        "colab": {
          "base_uri": "https://localhost:8080/",
          "height": 121
        },
        "outputId": "dc8c2ca3-5584-4b52-cf18-e4fceeab92f4"
      },
      "cell_type": "code",
      "source": [
        "for animal in animals:\n",
        "  print(animal)"
      ],
      "execution_count": 175,
      "outputs": [
        {
          "output_type": "stream",
          "text": [
            "다람쥐\n",
            "코뿔소\n",
            "코알라\n",
            "토끼\n",
            "하이에나\n",
            "코알라\n"
          ],
          "name": "stdout"
        }
      ]
    },
    {
      "metadata": {
        "id": "SWSCP7DcXIPq",
        "colab_type": "code",
        "colab": {
          "base_uri": "https://localhost:8080/",
          "height": 34
        },
        "outputId": "fded4649-1779-4489-ca61-dd31074b3fac"
      },
      "cell_type": "code",
      "source": [
        "type(animals)"
      ],
      "execution_count": 176,
      "outputs": [
        {
          "output_type": "execute_result",
          "data": {
            "text/plain": [
              "list"
            ]
          },
          "metadata": {
            "tags": []
          },
          "execution_count": 176
        }
      ]
    },
    {
      "metadata": {
        "id": "kBSYW7xuXbMB",
        "colab_type": "code",
        "colab": {
          "base_uri": "https://localhost:8080/",
          "height": 69
        },
        "outputId": "571072e0-a483-4dd4-d4c5-85f27e8fa3fb"
      },
      "cell_type": "code",
      "source": [
        "for num in [1,2,3]:\n",
        "  print(num)"
      ],
      "execution_count": 177,
      "outputs": [
        {
          "output_type": "stream",
          "text": [
            "1\n",
            "2\n",
            "3\n"
          ],
          "name": "stdout"
        }
      ]
    },
    {
      "metadata": {
        "id": "7qkQD-3wXicA",
        "colab_type": "code",
        "colab": {
          "base_uri": "https://localhost:8080/",
          "height": 366
        },
        "outputId": "437c1cf3-ac82-4506-80cc-a349bdf2bda8"
      },
      "cell_type": "code",
      "source": [
        "for my_str in \"이것은 나의 첫번쨰 파이썬 깃헙업로드\":\n",
        "  print(my_str)"
      ],
      "execution_count": 178,
      "outputs": [
        {
          "output_type": "stream",
          "text": [
            "이\n",
            "것\n",
            "은\n",
            " \n",
            "나\n",
            "의\n",
            " \n",
            "첫\n",
            "번\n",
            "쨰\n",
            " \n",
            "파\n",
            "이\n",
            "썬\n",
            " \n",
            "깃\n",
            "헙\n",
            "업\n",
            "로\n",
            "드\n"
          ],
          "name": "stdout"
        }
      ]
    },
    {
      "metadata": {
        "id": "FSvKlGN6XywS",
        "colab_type": "text"
      },
      "cell_type": "markdown",
      "source": [
        "####range()"
      ]
    },
    {
      "metadata": {
        "id": "DqfZbailXrbX",
        "colab_type": "code",
        "colab": {
          "base_uri": "https://localhost:8080/",
          "height": 34
        },
        "outputId": "47d1d9ac-6902-404b-8d48-cab4e88e4867"
      },
      "cell_type": "code",
      "source": [
        "range(3)"
      ],
      "execution_count": 179,
      "outputs": [
        {
          "output_type": "execute_result",
          "data": {
            "text/plain": [
              "range(0, 3)"
            ]
          },
          "metadata": {
            "tags": []
          },
          "execution_count": 179
        }
      ]
    },
    {
      "metadata": {
        "id": "9OwHO5BUX03Z",
        "colab_type": "code",
        "colab": {
          "base_uri": "https://localhost:8080/",
          "height": 34
        },
        "outputId": "1a8d4239-23b7-424c-bf27-79409ff6e2ed"
      },
      "cell_type": "code",
      "source": [
        "type(range(3))"
      ],
      "execution_count": 180,
      "outputs": [
        {
          "output_type": "execute_result",
          "data": {
            "text/plain": [
              "range"
            ]
          },
          "metadata": {
            "tags": []
          },
          "execution_count": 180
        }
      ]
    },
    {
      "metadata": {
        "id": "Jj22JJE3X2j-",
        "colab_type": "code",
        "colab": {
          "base_uri": "https://localhost:8080/",
          "height": 34
        },
        "outputId": "b1065f03-a399-4efa-a691-96a0e8130c6a"
      },
      "cell_type": "code",
      "source": [
        "[0,1,2]"
      ],
      "execution_count": 181,
      "outputs": [
        {
          "output_type": "execute_result",
          "data": {
            "text/plain": [
              "[0, 1, 2]"
            ]
          },
          "metadata": {
            "tags": []
          },
          "execution_count": 181
        }
      ]
    },
    {
      "metadata": {
        "id": "pcUUxB09X7eo",
        "colab_type": "code",
        "colab": {
          "base_uri": "https://localhost:8080/",
          "height": 69
        },
        "outputId": "40799f44-ef8a-4632-c7d7-80e14aeee4e8"
      },
      "cell_type": "code",
      "source": [
        "for n in [0,1,2,]:\n",
        "  print(n)"
      ],
      "execution_count": 182,
      "outputs": [
        {
          "output_type": "stream",
          "text": [
            "0\n",
            "1\n",
            "2\n"
          ],
          "name": "stdout"
        }
      ]
    },
    {
      "metadata": {
        "id": "y2dgxFYCX-w8",
        "colab_type": "code",
        "colab": {
          "base_uri": "https://localhost:8080/",
          "height": 69
        },
        "outputId": "ecff78d4-1f47-466d-a13a-638ac914c4bb"
      },
      "cell_type": "code",
      "source": [
        "for n in range(3):\n",
        "  print(n)"
      ],
      "execution_count": 184,
      "outputs": [
        {
          "output_type": "stream",
          "text": [
            "0\n",
            "1\n",
            "2\n"
          ],
          "name": "stdout"
        }
      ]
    },
    {
      "metadata": {
        "id": "b2KGXT8zYFvL",
        "colab_type": "code",
        "colab": {
          "base_uri": "https://localhost:8080/",
          "height": 34
        },
        "outputId": "c55d6455-babb-46e2-c6d8-9acb6d0b6e95"
      },
      "cell_type": "code",
      "source": [
        "range(3,5)"
      ],
      "execution_count": 185,
      "outputs": [
        {
          "output_type": "execute_result",
          "data": {
            "text/plain": [
              "range(3, 5)"
            ]
          },
          "metadata": {
            "tags": []
          },
          "execution_count": 185
        }
      ]
    },
    {
      "metadata": {
        "id": "37lhe9HcYR-N",
        "colab_type": "code",
        "colab": {
          "base_uri": "https://localhost:8080/",
          "height": 34
        },
        "outputId": "608ca28d-7e8d-4441-8853-ddb00c2e7b93"
      },
      "cell_type": "code",
      "source": [
        "print(range(3,5))"
      ],
      "execution_count": 186,
      "outputs": [
        {
          "output_type": "stream",
          "text": [
            "range(3, 5)\n"
          ],
          "name": "stdout"
        }
      ]
    },
    {
      "metadata": {
        "id": "PZAPN16kYWmS",
        "colab_type": "code",
        "colab": {
          "base_uri": "https://localhost:8080/",
          "height": 34
        },
        "outputId": "9f9d7bff-8c69-437f-c884-cff4f56ca953"
      },
      "cell_type": "code",
      "source": [
        "1"
      ],
      "execution_count": 187,
      "outputs": [
        {
          "output_type": "execute_result",
          "data": {
            "text/plain": [
              "1"
            ]
          },
          "metadata": {
            "tags": []
          },
          "execution_count": 187
        }
      ]
    },
    {
      "metadata": {
        "id": "xwQSFR7WYb_b",
        "colab_type": "code",
        "colab": {
          "base_uri": "https://localhost:8080/",
          "height": 34
        },
        "outputId": "45fe5fe0-1f8f-4d95-a27b-a1b6a64dc359"
      },
      "cell_type": "code",
      "source": [
        "2"
      ],
      "execution_count": 188,
      "outputs": [
        {
          "output_type": "execute_result",
          "data": {
            "text/plain": [
              "2"
            ]
          },
          "metadata": {
            "tags": []
          },
          "execution_count": 188
        }
      ]
    },
    {
      "metadata": {
        "id": "si7CxgmxYcLJ",
        "colab_type": "code",
        "colab": {
          "base_uri": "https://localhost:8080/",
          "height": 156
        },
        "outputId": "6cc05857-66c9-4c23-b048-5fcfa7d8374d"
      },
      "cell_type": "code",
      "source": [
        "for i in range(2,10):\n",
        "  print('{}X{}={}'.format(2,i,2*i))"
      ],
      "execution_count": 190,
      "outputs": [
        {
          "output_type": "stream",
          "text": [
            "2X2=4\n",
            "2X3=6\n",
            "2X4=8\n",
            "2X5=10\n",
            "2X6=12\n",
            "2X7=14\n",
            "2X8=16\n",
            "2X9=18\n"
          ],
          "name": "stdout"
        }
      ]
    },
    {
      "metadata": {
        "id": "WsPF5wWHYkTZ",
        "colab_type": "code",
        "colab": {
          "base_uri": "https://localhost:8080/",
          "height": 331
        },
        "outputId": "8da48156-4347-4987-f724-325d11449bdb"
      },
      "cell_type": "code",
      "source": [
        "for j in range(2,4):\n",
        "  for i in range(1,10):\n",
        "    print('{}X{}={}'.format(j,i,j*i))"
      ],
      "execution_count": 195,
      "outputs": [
        {
          "output_type": "stream",
          "text": [
            "2X1=2\n",
            "2X2=4\n",
            "2X3=6\n",
            "2X4=8\n",
            "2X5=10\n",
            "2X6=12\n",
            "2X7=14\n",
            "2X8=16\n",
            "2X9=18\n",
            "3X1=3\n",
            "3X2=6\n",
            "3X3=9\n",
            "3X4=12\n",
            "3X5=15\n",
            "3X6=18\n",
            "3X7=21\n",
            "3X8=24\n",
            "3X9=27\n"
          ],
          "name": "stdout"
        }
      ]
    },
    {
      "metadata": {
        "id": "azgpjzuTZTOt",
        "colab_type": "text"
      },
      "cell_type": "markdown",
      "source": [
        "####Comprehension"
      ]
    },
    {
      "metadata": {
        "id": "QiNV0L7QY_S0",
        "colab_type": "code",
        "colab": {}
      },
      "cell_type": "code",
      "source": [
        "numbers = [1,2,3,4,5,6,7,8,9,10]\n",
        "odd_nubesrs=[]"
      ],
      "execution_count": 0,
      "outputs": []
    },
    {
      "metadata": {
        "id": "Xx3H1Tq2ZkXb",
        "colab_type": "text"
      },
      "cell_type": "markdown",
      "source": [
        "30강부터 보면 된다. "
      ]
    },
    {
      "metadata": {
        "id": "GYu-NV_CZa-H",
        "colab_type": "code",
        "colab": {}
      },
      "cell_type": "code",
      "source": [
        ""
      ],
      "execution_count": 0,
      "outputs": []
    }
  ]
}